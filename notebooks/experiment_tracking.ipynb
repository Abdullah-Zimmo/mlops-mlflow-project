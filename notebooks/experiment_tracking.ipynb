{
 "cells": [
  {
   "cell_type": "code",
   "execution_count": 1,
   "id": "75970f22-c925-4b05-a52c-34f5729ffa80",
   "metadata": {},
   "outputs": [
    {
     "name": "stderr",
     "output_type": "stream",
     "text": [
      "\u001b[31m2025/04/26 11:34:56 WARNING mlflow.models.model: Model logged without a signature and input example. Please set `input_example` parameter when logging the model to auto infer the model signature.\u001b[0m\n",
      "Registered model 'DiabetesModel' already exists. Creating a new version of this model...\n",
      "2025/04/26 11:34:56 INFO mlflow.store.model_registry.abstract_store: Waiting up to 300 seconds for model version to finish creation. Model name: DiabetesModel, version 2\n"
     ]
    },
    {
     "name": "stdout",
     "output_type": "stream",
     "text": [
      "Model trained and logged with accuracy: 0.7207792207792207\n",
      "🏃 View run adventurous-bass-371 at: http://127.0.0.1:5500/#/experiments/388414333511973248/runs/77af4d416c5e4c7dbaf1132d8b17310d\n",
      "🧪 View experiment at: http://127.0.0.1:5500/#/experiments/388414333511973248\n"
     ]
    },
    {
     "name": "stderr",
     "output_type": "stream",
     "text": [
      "Created version '2' of model 'DiabetesModel'.\n"
     ]
    },
    {
     "data": {
      "image/png": "[encoded data removed]",
      "text/plain": [
       "<Figure size 640x480 with 2 Axes>"
      ]
     },
     "metadata": {},
     "output_type": "display_data"
    }
   ],
   "source": [
    "# experiment_tracking.ipynb\n",
    "\n",
    "import pandas as pd\n",
    "import mlflow\n",
    "import mlflow.sklearn\n",
    "from sklearn.model_selection import train_test_split\n",
    "from sklearn.ensemble import RandomForestClassifier\n",
    "from sklearn.metrics import accuracy_score, ConfusionMatrixDisplay\n",
    "import matplotlib.pyplot as plt\n",
    "import time\n",
    "\n",
    "# Set MLflow tracking URI (IMPORTANT)\n",
    "mlflow.set_tracking_uri(\"http://127.0.0.1:5500\")\n",
    "\n",
    "# Optional: Name the columns (since the dataset has no header row)\n",
    "column_names = [\n",
    "    'Pregnancies', 'Glucose', 'BloodPressure', 'SkinThickness',\n",
    "    'Insulin', 'BMI', 'DiabetesPedigreeFunction', 'Age', 'Outcome'\n",
    "]\n",
    "\n",
    "# Load dataset\n",
    "df = pd.read_csv(\"/Users/zimmo/Desktop/mlops-mlflow-project/data/diabetes.csv\", names=column_names)\n",
    "X = df.iloc[:, :-1]\n",
    "y = df.iloc[:, -1]\n",
    "\n",
    "# Split data\n",
    "X_train, X_test, y_train, y_test = train_test_split(X, y, test_size=0.2, random_state=42)\n",
    "\n",
    "# Set MLflow experiment name\n",
    "mlflow.set_experiment(\"Diabetes Classification\")\n",
    "\n",
    "# Start tracking with MLflow\n",
    "with mlflow.start_run():\n",
    "    mlflow.set_tag(\"developer\", \"Abdullah Zimmo\")\n",
    "    mlflow.set_tag(\"project\", \"MLflow Diabetes Classification\")\n",
    "\n",
    "    # Log model parameters\n",
    "    mlflow.log_param(\"n_estimators\", 100)\n",
    "\n",
    "    # Measure training time\n",
    "    start_time = time.time()\n",
    "    model = RandomForestClassifier(n_estimators=100, random_state=42)\n",
    "    model.fit(X_train, y_train)\n",
    "    end_time = time.time()\n",
    "    training_time = end_time - start_time\n",
    "    mlflow.log_metric(\"training_time\", training_time)\n",
    "\n",
    "    # Predict and evaluate\n",
    "    y_pred = model.predict(X_test)\n",
    "    acc = accuracy_score(y_test, y_pred)\n",
    "    mlflow.log_metric(\"accuracy\", acc)\n",
    "\n",
    "    # Log the trained model with registration\n",
    "    mlflow.sklearn.log_model(model, \"diabetes_model\", registered_model_name=\"DiabetesModel\")\n",
    "\n",
    "    # Plot and log confusion matrix\n",
    "    fig, ax = plt.subplots()\n",
    "    ConfusionMatrixDisplay.from_estimator(model, X_test, y_test, cmap='Blues', ax=ax)\n",
    "    plt.title(\"Confusion Matrix\")\n",
    "    plt.grid(False)\n",
    "    fig.savefig(\"confusion_matrix.png\")\n",
    "    mlflow.log_artifact(\"confusion_matrix.png\")\n",
    "\n",
    "    print(\"Model trained and logged with accuracy:\", acc)\n",
    "\n"
   ]
  },
  {
   "cell_type": "code",
   "execution_count": null,
   "id": "3afb1769-adc7-4f37-a16a-0138c9560202",
   "metadata": {},
   "outputs": [],
   "source": []
  },
  {
   "cell_type": "code",
   "execution_count": null,
   "id": "de3a2326-bdcf-41d3-9839-cc1dd66e19cc",
   "metadata": {},
   "outputs": [],
   "source": []
  }
 ],
 "metadata": {
  "kernelspec": {
   "display_name": "Python 3 (ipykernel)",
   "language": "python",
   "name": "python3"
  },
  "language_info": {
   "codemirror_mode": {
    "name": "ipython",
    "version": 3
   },
   "file_extension": ".py",
   "mimetype": "text/x-python",
   "name": "python",
   "nbconvert_exporter": "python",
   "pygments_lexer": "ipython3",
   "version": "3.11.5"
  }
 },
 "nbformat": 4,
 "nbformat_minor": 5
}
